{
 "cells": [
  {
   "cell_type": "code",
   "execution_count": null,
   "metadata": {},
   "outputs": [
    {
     "name": "stdout",
     "output_type": "stream",
     "text": [
      "reversed_string: !dlroW olleH\n"
     ]
    }
   ],
   "source": [
    "# 01. Write a code to reverse a string\n",
    "def reverse_string(s):\n",
    "    return s[::-1]\n",
    "#test the function\n",
    "original_string = \"Hello World!\"\n",
    "reversed_string = reverse_string(original_string)\n",
    "print(\"reversed_string:\", reversed_string)"
   ]
  },
  {
   "cell_type": "code",
   "execution_count": null,
   "metadata": {},
   "outputs": [
    {
     "name": "stdout",
     "output_type": "stream",
     "text": [
      "Number of vowels in Rameshvaram: 4\n"
     ]
    }
   ],
   "source": [
    "# 02. Write a code to count the number of vowels in a string\n",
    "name = \"Rameshvaram\"\n",
    "vowels = \"aeiouAEIOU\"\n",
    "\n",
    "vowel_count = 0\n",
    "for char in name:\n",
    "    if char in vowels:\n",
    "        vowel_count = vowel_count + 1\n",
    "\n",
    "print(f\"Number of vowels in {name}: {vowel_count}\")"
   ]
  },
  {
   "cell_type": "code",
   "execution_count": null,
   "metadata": {},
   "outputs": [
    {
     "name": "stdout",
     "output_type": "stream",
     "text": [
      "Is 'A man, A plan, a camal: Panama' a palindrome? False\n"
     ]
    }
   ],
   "source": [
    "# 03. Write a code to check if a given string is a palindrome or not\n",
    "def is_palindrome(s):\n",
    "    s = ''.join(c for c in s if c.isalnum()).lower()\n",
    "    return s ==s[::-1]\n",
    "#test the function \n",
    "string = \"A man, A plan, a camal: Panama\"\n",
    "print(\"Is '{}' a palindrome? {}\".format(string, is_palindrome(string)))"
   ]
  },
  {
   "cell_type": "code",
   "execution_count": null,
   "metadata": {},
   "outputs": [
    {
     "name": "stdout",
     "output_type": "stream",
     "text": [
      "Are 'Listen' and 'Silent' anagrams? True\n"
     ]
    }
   ],
   "source": [
    "# 04. Write a code to check if two given strings are anagrams of each other\n",
    "def are_anagrams(str1, str2):\n",
    "    return sorted(str1.lower()) == sorted(str2.lower())\n",
    "#test he function\n",
    "str1 = \"Listen\"\n",
    "str2 = \"Silent\"\n",
    "print(\"Are '{}' and '{}' anagrams? {}\".format(str1, str2, are_anagrams(str1,str2)))"
   ]
  },
  {
   "cell_type": "code",
   "execution_count": null,
   "metadata": {},
   "outputs": [
    {
     "name": "stdout",
     "output_type": "stream",
     "text": [
      "Occurrences of 'hello' in 'Hello world, hello again, hello one more time': [0, 13, 26]\n"
     ]
    }
   ],
   "source": [
    "# 05. Write a code to find all occurrences of a given substring within another string\n",
    "def find_substring(main_string, sub_string):\n",
    "    occurrences = []\n",
    "    start = 0\n",
    "    while start < len(main_string):\n",
    "        pos = main_string.find(sub_string, start)\n",
    "        if pos != -1:\n",
    "            occurrences.append(pos)\n",
    "            start = pos + 1\n",
    "        else:\n",
    "            break\n",
    "    return occurrences\n",
    "\n",
    "# Test the function\n",
    "main_string = \"Hello world, hello again, hello one more time\"\n",
    "sub_string = \"hello\"\n",
    "print(\"Occurrences of '{}' in '{}': {}\".format(sub_string, main_string, find_substring(main_string.lower(), sub_string.lower())))"
   ]
  },
  {
   "cell_type": "code",
   "execution_count": null,
   "metadata": {},
   "outputs": [
    {
     "name": "stdout",
     "output_type": "stream",
     "text": [
      "Original String: AAAABBBCC\n",
      "Compressed String: A4B3C2\n"
     ]
    }
   ],
   "source": [
    "# 06. Write a code to perform basic string compression using the counts of repeated characters\n",
    "def compress_string(s):\n",
    "    compressed = \"\"\n",
    "    count = 1\n",
    "\n",
    "    for i in range(1, len(s)):\n",
    "        if s[i] == s[i - 1]:\n",
    "            count += 1\n",
    "        else:\n",
    "            compressed += s[i - 1] + str(count)\n",
    "            count = 1\n",
    "\n",
    "    compressed += s[-1] + str(count)\n",
    "    return compressed\n",
    "\n",
    "# Test the function\n",
    "s = \"AAAABBBCC\"\n",
    "print(\"Original String:\", s)\n",
    "print(\"Compressed String:\", compress_string(s))"
   ]
  },
  {
   "cell_type": "code",
   "execution_count": null,
   "metadata": {},
   "outputs": [
    {
     "name": "stdout",
     "output_type": "stream",
     "text": [
      "String 'abcdefg' has unique chars: True\n",
      "String 'aabbcc' has unique chars: False\n"
     ]
    }
   ],
   "source": [
    "# 07. Write a code to determine if a string has all unique characters\n",
    "def has_unique_chars(s):\n",
    "    char_set = set()\n",
    "    for char in s:\n",
    "        if char in char_set:\n",
    "            return False\n",
    "        char_set.add(char)\n",
    "    return True\n",
    "\n",
    "# Test the function\n",
    "s1 = \"abcdefg\"\n",
    "s2 = \"aabbcc\"\n",
    "\n",
    "print(\"String '{}' has unique chars: {}\".format(s1, has_unique_chars(s1)))\n",
    "print(\"String '{}' has unique chars: {}\".format(s2, has_unique_chars(s2)))"
   ]
  },
  {
   "cell_type": "code",
   "execution_count": null,
   "metadata": {},
   "outputs": [
    {
     "name": "stdout",
     "output_type": "stream",
     "text": [
      "Original String: Hello World!\n",
      "Uppercase String: HELLO WORLD!\n",
      "Lowercase String: hello world!\n"
     ]
    }
   ],
   "source": [
    "# 08. Write a code to convert a given string to uppercase or lowercase\n",
    "def convert_case(s, case):\n",
    "    if case.lower() == \"upper\":\n",
    "        return s.upper()\n",
    "    elif case.lower() == \"lower\":\n",
    "        return s.lower()\n",
    "    else:\n",
    "        return \"Invalid case. Please specify 'upper' or 'lower'.\"\n",
    "\n",
    "# Test the function\n",
    "s = \"Hello World!\"\n",
    "print(\"Original String:\", s)\n",
    "print(\"Uppercase String:\", convert_case(s, \"upper\"))\n",
    "print(\"Lowercase String:\", convert_case(s, \"lower\"))"
   ]
  },
  {
   "cell_type": "code",
   "execution_count": null,
   "metadata": {},
   "outputs": [
    {
     "name": "stdout",
     "output_type": "stream",
     "text": [
      "Original String: I love eating pizza burger fries and sandwiches\n",
      "Number of Words: 8\n"
     ]
    }
   ],
   "source": [
    "# 09.  Write a code to count the number of words in a string\n",
    "def count_words(s):\n",
    "    words = s.split()\n",
    "    return len(words)\n",
    "\n",
    "# Test the function\n",
    "s = \"I love eating pizza burger fries and sandwiches\"\n",
    "print(\"Original String:\", s)\n",
    "print(\"Number of Words:\", count_words(s))"
   ]
  },
  {
   "cell_type": "code",
   "execution_count": null,
   "metadata": {},
   "outputs": [
    {
     "name": "stdout",
     "output_type": "stream",
     "text": [
      "Concatenated String: HelloWorld\n"
     ]
    }
   ],
   "source": [
    "# 10. Write a code to concatenate two strings without using the + operator\n",
    "def concat_strings(str1, str2):\n",
    "    return \"%s%s\" % (str1, str2)\n",
    "\n",
    "# Test the function\n",
    "str1 = \"Hello\"\n",
    "str2 = \"World\"\n",
    "print(\"Concatenated String:\", concat_strings(str1, str2))"
   ]
  },
  {
   "cell_type": "code",
   "execution_count": null,
   "metadata": {},
   "outputs": [
    {
     "name": "stdout",
     "output_type": "stream",
     "text": [
      "Original List: [1, 2, 3, 4, 2, 5, 2, 6]\n",
      "List after removing 2: [1, 3, 4, 5, 6]\n"
     ]
    }
   ],
   "source": [
    "# 11. Write a code to remove all occurrences of a specific element from a list\n",
    "def remove_element(lst, elem):\n",
    "    return [x for x in lst if x != elem]\n",
    "\n",
    "# Test the function\n",
    "lst = [1, 2, 3, 4, 2, 5, 2, 6]\n",
    "elem = 2\n",
    "print(\"Original List:\", lst)\n",
    "print(\"List after removing {}:\".format(elem), remove_element(lst, elem))"
   ]
  },
  {
   "cell_type": "code",
   "execution_count": null,
   "metadata": {},
   "outputs": [
    {
     "name": "stdout",
     "output_type": "stream",
     "text": [
      "Second largest number: 40\n"
     ]
    }
   ],
   "source": [
    "# 12. Implement a code to find the second largest number in a given list of integers\n",
    "def second_largest(nums):\n",
    "    if len(nums) < 2:\n",
    "        return None\n",
    "    max_num = second_max = float('-inf')\n",
    "    for num in nums:\n",
    "        if num > max_num:\n",
    "            second_max = max_num\n",
    "            max_num = num\n",
    "        elif num > second_max and num != max_num:\n",
    "            second_max = num\n",
    "    if second_max == float('-inf'):\n",
    "        return None\n",
    "    return second_max\n",
    "\n",
    "# Test the function\n",
    "nums = [10, 20, 30, 40, 50]\n",
    "print(\"Second largest number:\", second_largest(nums))"
   ]
  },
  {
   "cell_type": "code",
   "execution_count": null,
   "metadata": {},
   "outputs": [
    {
     "name": "stdout",
     "output_type": "stream",
     "text": [
      "Original List: [1, 2, 2, 3, 3, 3, 4, 4, 4, 4]\n",
      "Element Counts: {1: 1, 2: 2, 3: 3, 4: 4}\n"
     ]
    }
   ],
   "source": [
    "# 13. Create a code to count the occurrences of each element in a list and return a dictionary with elements as \n",
    "#keys and their counts as values\n",
    "def count_elements(lst):\n",
    "    counts = {}\n",
    "    for elem in lst:\n",
    "        if elem in counts:\n",
    "            counts[elem] += 1\n",
    "        else:\n",
    "            counts[elem] = 1\n",
    "    return counts\n",
    "\n",
    "# Test the function\n",
    "lst = [1, 2, 2, 3, 3, 3, 4, 4, 4, 4]\n",
    "print(\"Original List:\", lst)\n",
    "print(\"Element Counts:\", count_elements(lst))"
   ]
  },
  {
   "cell_type": "code",
   "execution_count": null,
   "metadata": {},
   "outputs": [
    {
     "name": "stdout",
     "output_type": "stream",
     "text": [
      "Original List: [1, 2, 3, 4, 5]\n",
      "Reversed List: [5, 4, 3, 2, 1]\n"
     ]
    }
   ],
   "source": [
    "# 14. Write a code to reverse a list in-place without using any built-in reverse functions\n",
    "def reverse_list_in_place(lst):\n",
    "    left = 0\n",
    "    right = len(lst) - 1\n",
    "\n",
    "    while left < right:\n",
    "        # Swap elements at left and right indices\n",
    "        lst[left], lst[right] = lst[right], lst[left]\n",
    "        left += 1\n",
    "        right -= 1\n",
    "\n",
    "    return lst\n",
    "\n",
    "# Test the function\n",
    "lst = [1, 2, 3, 4, 5]\n",
    "print(\"Original List:\", lst)\n",
    "print(\"Reversed List:\", reverse_list_in_place(lst))"
   ]
  },
  {
   "cell_type": "code",
   "execution_count": null,
   "metadata": {},
   "outputs": [
    {
     "name": "stdout",
     "output_type": "stream",
     "text": [
      "List 1: [1, 3, 5, 7]\n",
      "List 2: [2, 4, 6, 8]\n",
      "Merged List: [1, 2, 3, 4, 5, 6, 7, 8]\n"
     ]
    }
   ],
   "source": [
    "# 15. Write a code to merge two sorted lists into a single sorted list\n",
    "def merge_sorted_lists(list1, list2):\n",
    "    merged_list = []\n",
    "    i = j = 0\n",
    "\n",
    "    while i < len(list1) and j < len(list2):\n",
    "        if list1[i] < list2[j]:\n",
    "            merged_list.append(list1[i])\n",
    "            i += 1\n",
    "        else:\n",
    "            merged_list.append(list2[j])\n",
    "            j += 1\n",
    "\n",
    "    # Append any remaining elements from list1 or list2\n",
    "    merged_list.extend(list1[i:])\n",
    "    merged_list.extend(list2[j:])\n",
    "    return merged_list\n",
    "# Test the function\n",
    "list1 = [1, 3, 5, 7]\n",
    "list2 = [2, 4, 6, 8]\n",
    "print(\"List 1:\", list1)\n",
    "print(\"List 2:\", list2)\n",
    "print(\"Merged List:\", merge_sorted_lists(list1, list2))"
   ]
  },
  {
   "cell_type": "code",
   "execution_count": null,
   "metadata": {},
   "outputs": [
    {
     "name": "stdout",
     "output_type": "stream",
     "text": [
      "List 1: [1, 2, 3, 4, 5]\n",
      "List 2: [4, 5, 6, 7, 8]\n",
      "Intersection: [4, 5]\n"
     ]
    }
   ],
   "source": [
    "# 16. Implement a code to find the intersection of two given lists\n",
    "def list_intersection(list1, list2):\n",
    "    return [element for element in list1 if element in list2]\n",
    "\n",
    "# Test the function\n",
    "list1 = [1, 2, 3, 4, 5]\n",
    "list2 = [4, 5, 6, 7, 8]\n",
    "print(\"List 1:\", list1)\n",
    "print(\"List 2:\", list2)\n",
    "print(\"Intersection:\", list_intersection(list1, list2))"
   ]
  },
  {
   "cell_type": "code",
   "execution_count": null,
   "metadata": {},
   "outputs": [
    {
     "name": "stdout",
     "output_type": "stream",
     "text": [
      "Original List: [1, 2, 3, 2, 4, 5, 6, 2, 3, 7, 8, 9]\n",
      "List after removing duplicates: [1, 2, 3, 4, 5, 6, 7, 8, 9]\n"
     ]
    }
   ],
   "source": [
    "# 17. Implement a code to find and remove duplicates from a list while preserving the original order of \n",
    "#elements\n",
    "def remove_duplicates(lst):\n",
    "    seen = set()\n",
    "    return [x for x in lst if not (x in seen or seen.add(x))]\n",
    "\n",
    "# Test the function\n",
    "lst = [1, 2, 3, 2, 4, 5, 6, 2, 3, 7, 8, 9]\n",
    "print(\"Original List:\", lst)\n",
    "print(\"List after removing duplicates:\", remove_duplicates(lst))"
   ]
  },
  {
   "cell_type": "code",
   "execution_count": null,
   "metadata": {},
   "outputs": [
    {
     "name": "stdout",
     "output_type": "stream",
     "text": [
      "List 1: [1, 2, 3, 4, 5]\n",
      "Is sorted? True\n",
      "\n",
      "List 2: [5, 4, 3, 2, 1]\n",
      "Is sorted? True\n",
      "\n",
      "List 3: [1, 3, 2, 4, 5]\n",
      "Is sorted? False\n"
     ]
    }
   ],
   "source": [
    "# 18.  Create a code to check if a given list is sorted (either in ascending or descending order) or not\n",
    "def is_sorted(lst):\n",
    "    ascending = descending = True\n",
    "\n",
    "    for i in range(len(lst) - 1):\n",
    "        if lst[i] > lst[i + 1]:\n",
    "            ascending = False\n",
    "        if lst[i] < lst[i + 1]:\n",
    "            descending = False\n",
    "\n",
    "    return ascending or descending\n",
    "\n",
    "# Test the function\n",
    "lst1 = [1, 2, 3, 4, 5]\n",
    "lst2 = [5, 4, 3, 2, 1]\n",
    "lst3 = [1, 3, 2, 4, 5]\n",
    "\n",
    "print(\"List 1:\", lst1)\n",
    "print(\"Is sorted?\", is_sorted(lst1))\n",
    "\n",
    "print(\"\\nList 2:\", lst2)\n",
    "print(\"Is sorted?\", is_sorted(lst2))\n",
    "\n",
    "print(\"\\nList 3:\", lst3)\n",
    "print(\"Is sorted?\", is_sorted(lst3))"
   ]
  },
  {
   "cell_type": "code",
   "execution_count": null,
   "metadata": {},
   "outputs": [
    {
     "name": "stdout",
     "output_type": "stream",
     "text": [
      "List 1: [1, 2, 3, 4, 5]\n",
      "List 2: [4, 5, 6, 7, 8]\n",
      "Union of Lists: [1, 2, 3, 4, 5, 6, 7, 8]\n"
     ]
    }
   ],
   "source": [
    "# 19. Create a code to find the union of two lists without duplicates\n",
    "def union_of_lists(list1, list2):\n",
    "    return list(set(list1 + list2))\n",
    "\n",
    "# Test the function\n",
    "list1 = [1, 2, 3, 4, 5]\n",
    "list2 = [4, 5, 6, 7, 8]\n",
    "print(\"List 1:\", list1)\n",
    "print(\"List 2:\", list2)\n",
    "print(\"Union of Lists:\", union_of_lists(list1, list2))"
   ]
  },
  {
   "cell_type": "code",
   "execution_count": null,
   "metadata": {},
   "outputs": [
    {
     "name": "stdout",
     "output_type": "stream",
     "text": [
      "Original List: [1, 2, 3, 4, 5, 6, 7, 8, 9]\n",
      "Shuffled List: [9, 6, 3, 7, 2, 5, 1, 8, 4]\n"
     ]
    }
   ],
   "source": [
    "# 20. Write a code to shuffle a given list randomly without using any built-in shuffle functions\n",
    "import random\n",
    "\n",
    "def shuffle_list(lst):\n",
    "    for i in range(len(lst) - 1, 0, -1):\n",
    "        j = random.randint(0, i)\n",
    "        lst[i], lst[j] = lst[j], lst[i]\n",
    "    return lst\n",
    "\n",
    "# Test the function\n",
    "lst = [1, 2, 3, 4, 5, 6, 7, 8, 9]\n",
    "print(\"Original List:\", lst)\n",
    "print(\"Shuffled List:\", shuffle_list(lst))"
   ]
  },
  {
   "cell_type": "code",
   "execution_count": null,
   "metadata": {},
   "outputs": [
    {
     "name": "stdout",
     "output_type": "stream",
     "text": [
      "Tuple 1: (1, 2, 3, 4, 5)\n",
      "Tuple 2: (4, 5, 6, 7, 8)\n",
      "Common Elements: (4, 5)\n"
     ]
    }
   ],
   "source": [
    "# 21.  Write a code that takes two tuples as input and returns a new tuple containing elements that are \n",
    "#common to both input tuples\n",
    "def common_elements(tuple1, tuple2):\n",
    "    return tuple(set(tuple1) & set(tuple2))\n",
    "\n",
    "# Test the function\n",
    "tuple1 = (1, 2, 3, 4, 5)\n",
    "tuple2 = (4, 5, 6, 7, 8)\n",
    "print(\"Tuple 1:\", tuple1)\n",
    "print(\"Tuple 2:\", tuple2)\n",
    "print(\"Common Elements:\", common_elements(tuple1, tuple2))"
   ]
  },
  {
   "cell_type": "code",
   "execution_count": 1,
   "metadata": {},
   "outputs": [
    {
     "name": "stdin",
     "output_type": "stream",
     "text": [
      "Enter first set of integers (separated by commas):  1,2,3,4,5\n",
      "Enter second set of integers (separated by commas):  4,5,6,7,8\n"
     ]
    },
    {
     "name": "stdout",
     "output_type": "stream",
     "text": [
      "Set 1: {1, 2, 3, 4, 5}\n",
      "Set 2: {4, 5, 6, 7, 8}\n",
      "Intersection: {4, 5}\n"
     ]
    }
   ],
   "source": [
    "#22. Create a code that prompts the user to enter two sets of integers separated by commas. Then, print the \n",
    "#intersection of these two sets\n",
    "def main():\n",
    "    set1 = input(\"Enter first set of integers (separated by commas): \")\n",
    "    set2 = input(\"Enter second set of integers (separated by commas): \")\n",
    "\n",
    "    set1 = {int(x) for x in set1.split(',')}\n",
    "    set2 = {int(x) for x in set2.split(',')}    \n",
    "\n",
    "    print(\"Set 1:\", set1)\n",
    "    print(\"Set 2:\", set2)\n",
    "\n",
    "    intersection = set1.intersection(set2)\n",
    "    print(\"Intersection:\", intersection)\n",
    "\n",
    "if __name__ == \"__main__\":\n",
    "     main()"
   ]
  },
  {
   "cell_type": "code",
   "execution_count": null,
   "metadata": {},
   "outputs": [
    {
     "name": "stdout",
     "output_type": "stream",
     "text": [
      "Tuple 1: (1, 2, 3)\n",
      "Tuple 2: (4, 5, 6)\n",
      "Concatenated Tuple: (1, 2, 3, 4, 5, 6)\n"
     ]
    }
   ],
   "source": [
    "# 23. Write a code to concatenate two tuples. The function should take two tuples as input and return a new \n",
    "#tuple containing elements from both input tuples\n",
    "def concat_tuples(tuple1, tuple2):\n",
    "    return tuple1 + tuple2\n",
    "\n",
    "tuple1 = (1, 2, 3)\n",
    "tuple2 = (4, 5, 6)\n",
    "\n",
    "print(\"Tuple 1:\", tuple1)\n",
    "print(\"Tuple 2:\", tuple2)\n",
    "print(\"Concatenated Tuple:\", concat_tuples(tuple1, tuple2))"
   ]
  },
  {
   "cell_type": "code",
   "execution_count": null,
   "metadata": {},
   "outputs": [
    {
     "name": "stdout",
     "output_type": "stream",
     "text": [
      "Enter two sets of strings separated by commas.\n",
      "\n",
      "Set 1: {''}\n",
      "Set 2: {''}\n",
      "\n",
      "Elements in Set 1 but not in Set 2: set()\n"
     ]
    }
   ],
   "source": [
    "# 24. Develop a code that prompts the user to input two sets of strings. Then, print the elements that are \n",
    "# present in the first set but not in the second set\n",
    "def get_set_from_user(prompt):\n",
    "    user_input = input(prompt)\n",
    "    return set(user_input.split(','))\n",
    "\n",
    "def main():\n",
    "    print(\"Enter two sets of strings separated by commas.\")\n",
    "    \n",
    "    set1 = get_set_from_user(\"Enter first set: \")\n",
    "    set2 = get_set_from_user(\"Enter second set: \")\n",
    "\n",
    "    print(\"\\nSet 1:\", set1)\n",
    "    print(\"Set 2:\", set2)\n",
    "\n",
    "    difference = set1 - set2\n",
    "    print(\"\\nElements in Set 1 but not in Set 2:\", difference)\n",
    "\n",
    "if __name__ == \"__main__\":\n",
    "    main()"
   ]
  },
  {
   "cell_type": "code",
   "execution_count": null,
   "metadata": {},
   "outputs": [
    {
     "name": "stdout",
     "output_type": "stream",
     "text": [
      "Original Tuple: (1, 2, 3, 4, 5, 6, 7, 8, 9)\n",
      "Start Index: 3\n",
      "End Index: 7\n",
      "Sliced Tuple: (4, 5, 6, 7)\n"
     ]
    }
   ],
   "source": [
    "'''  25. Create a code that takes a tuple and two integers as input. The function should return a new tuple containing elements from the original tuple within the specified range of indices'''\n",
    "def slice_tuple(tup, start, end):\n",
    "    return tup[start:end]\n",
    "\n",
    "# Test the function\n",
    "tup = (1, 2, 3, 4, 5, 6, 7, 8, 9)\n",
    "start = 3\n",
    "end = 7\n",
    "\n",
    "print(\"Original Tuple:\", tup)\n",
    "print(\"Start Index:\", start)\n",
    "print(\"End Index:\", end)\n",
    "print(\"Sliced Tuple:\", slice_tuple(tup, start, end))"
   ]
  },
  {
   "cell_type": "code",
   "execution_count": null,
   "metadata": {},
   "outputs": [
    {
     "name": "stdout",
     "output_type": "stream",
     "text": [
      "Enter two sets of characters.\n",
      "\n",
      "Set 1: set()\n",
      "Set 2: set()\n",
      "\n",
      "Union of Set 1 and Set 2: set()\n"
     ]
    }
   ],
   "source": [
    "# 26. Write a code that prompts the user to input two sets of characters. Then, print the union of these two sets\n",
    "def get_set_from_user(prompt):\n",
    "    user_input = input(prompt)\n",
    "    return set(user_input)\n",
    "\n",
    "def main():\n",
    "    print(\"Enter two sets of characters.\")\n",
    "    \n",
    "    set1 = get_set_from_user(\"Enter first set: \")\n",
    "    set2 = get_set_from_user(\"Enter second set: \")\n",
    "\n",
    "    print(\"\\nSet 1:\", set1)\n",
    "    print(\"Set 2:\", set2)\n",
    "\n",
    "    union = set1 | set2\n",
    "    print(\"\\nUnion of Set 1 and Set 2:\", union)\n",
    "\n",
    "if __name__ == \"__main__\":\n",
    "    main()"
   ]
  },
  {
   "cell_type": "code",
   "execution_count": null,
   "metadata": {},
   "outputs": [
    {
     "name": "stdout",
     "output_type": "stream",
     "text": [
      "Tuple: (12, 45, 7, 23, 56, 89, 34)\n",
      "Minimum Value: 12\n",
      "Maximum Value: 34\n"
     ]
    }
   ],
   "source": [
    "'''27. Develop a code that takes a tuple of integers as input. The function should return the maximum and minimum values from the tuple using tuple unpacking'''\n",
    "def find_min_max(tup):\n",
    "    min_val, *_, max_val = tup\n",
    "    return min_val, max_val\n",
    "\n",
    "# Test the function\n",
    "tup = (12, 45, 7, 23, 56, 89, 34)\n",
    "min_val, max_val = find_min_max(tup)\n",
    "\n",
    "print(\"Tuple:\", tup)\n",
    "print(\"Minimum Value:\", min_val)\n",
    "print(\"Maximum Value:\", max_val)"
   ]
  },
  {
   "cell_type": "code",
   "execution_count": null,
   "metadata": {},
   "outputs": [
    {
     "name": "stdout",
     "output_type": "stream",
     "text": [
      "Set 1: {1, 2, 3, 4}\n",
      "Set 2: {3, 4, 5, 6}\n",
      "Union: {1, 2, 3, 4, 5, 6}\n",
      "Intersection: {3, 4}\n",
      "Difference (Set 1 - Set 2): {1, 2}\n",
      "Difference (Set 2 - Set 1): {5, 6}\n"
     ]
    }
   ],
   "source": [
    "'''28. Create a code that defines two sets of integers. Then, print the union, intersection, and difference of these two sets'''\n",
    "# Define two sets of integers\n",
    "set1 = {1, 2, 3, 4}\n",
    "set2 = {3, 4, 5, 6}\n",
    "\n",
    "# Print the sets\n",
    "print(\"Set 1:\", set1)\n",
    "print(\"Set 2:\", set2)\n",
    "\n",
    "# Print the union of the two sets\n",
    "print(\"Union:\", set1 | set2)\n",
    "\n",
    "# Print the intersection of the two sets\n",
    "print(\"Intersection:\", set1 & set2)\n",
    "\n",
    "# Print the difference of the two sets\n",
    "print(\"Difference (Set 1 - Set 2):\", set1 - set2)\n",
    "print(\"Difference (Set 2 - Set 1):\", set2 - set1)"
   ]
  },
  {
   "cell_type": "code",
   "execution_count": null,
   "metadata": {},
   "outputs": [
    {
     "name": "stdout",
     "output_type": "stream",
     "text": [
      "Tuple: (1, 2, 2, 3, 2, 4, 2, 5)\n",
      "Element: 2\n",
      "Count: 4\n"
     ]
    }
   ],
   "source": [
    "''' 29.  Write a code that takes a tuple and an element as input. The function should return the count of occurrences of the given element in the tuple'''\n",
    "def count_element(tup, elem):\n",
    "    return tup.count(elem)\n",
    "\n",
    "# Test the function\n",
    "tup = (1, 2, 2, 3, 2, 4, 2, 5)\n",
    "elem = 2\n",
    "\n",
    "print(\"Tuple:\", tup)\n",
    "print(\"Element:\", elem)\n",
    "print(\"Count:\", count_element(tup, elem))"
   ]
  },
  {
   "cell_type": "code",
   "execution_count": null,
   "metadata": {},
   "outputs": [
    {
     "name": "stdout",
     "output_type": "stream",
     "text": [
      "Enter two sets of strings separated by commas.\n",
      "\n",
      "Set 1: {''}\n",
      "Set 2: {''}\n",
      "\n",
      "Symmetric Difference: set()\n"
     ]
    }
   ],
   "source": [
    "''' 30.  Develop a code that prompts the user to input two sets of strings. Then, print the symmetric difference of \n",
    "these two sets'''\n",
    "def get_set_from_user(prompt):\n",
    "    user_input = input(prompt)\n",
    "    return set(user_input.split(','))\n",
    "\n",
    "def main():\n",
    "    print(\"Enter two sets of strings separated by commas.\")\n",
    "    \n",
    "    set1 = get_set_from_user(\"Enter first set: \")\n",
    "    set2 = get_set_from_user(\"Enter second set: \")\n",
    "\n",
    "    print(\"\\nSet 1:\", set1)\n",
    "    print(\"Set 2:\", set2)\n",
    "\n",
    "    symmetric_diff = set1 ^ set2\n",
    "    print(\"\\nSymmetric Difference:\", symmetric_diff)\n",
    "\n",
    "if __name__ == \"__main__\":\n",
    "    main()"
   ]
  },
  {
   "cell_type": "code",
   "execution_count": null,
   "metadata": {},
   "outputs": [
    {
     "name": "stdout",
     "output_type": "stream",
     "text": [
      "Word List: ['apple', 'banana', 'apple', 'orange', 'banana', 'banana']\n",
      "Word Frequencies: {'apple': 2, 'banana': 3, 'orange': 1}\n"
     ]
    }
   ],
   "source": [
    "''' 31. Write a code that takes a list of words as input and returns a dictionary where the keys are unique words \n",
    "and the values are the frequencies of those words in the input list'''\n",
    "def word_frequencies(word_list):\n",
    "    freq_dict = {}\n",
    "    for word in word_list:\n",
    "        if word in freq_dict:\n",
    "            freq_dict[word] += 1\n",
    "        else:\n",
    "            freq_dict[word] = 1\n",
    "    return freq_dict\n",
    "\n",
    "# Test the function\n",
    "word_list = [\"apple\", \"banana\", \"apple\", \"orange\", \"banana\", \"banana\"]\n",
    "print(\"Word List:\", word_list)\n",
    "print(\"Word Frequencies:\", word_frequencies(word_list))"
   ]
  },
  {
   "cell_type": "code",
   "execution_count": null,
   "metadata": {},
   "outputs": [
    {
     "name": "stdout",
     "output_type": "stream",
     "text": [
      "Dictionary 1: {'a': 10, 'b': 20, 'c': 30}\n",
      "Dictionary 2: {'b': 40, 'c': 50, 'd': 60}\n",
      "Merged Dictionary: {'a': 10, 'b': 60, 'c': 80, 'd': 60}\n"
     ]
    }
   ],
   "source": [
    "'''32. Write a code that takes two dictionaries as input and merges them into a single dictionary. If there are \n",
    "common keys, the values should be added together '''\n",
    "def merge_dictionaries(dict1, dict2):\n",
    "    merged_dict = dict1.copy()\n",
    "    for key, value in dict2.items():\n",
    "        if key in merged_dict:\n",
    "            merged_dict[key] += value\n",
    "        else:\n",
    "            merged_dict[key] = value\n",
    "    return merged_dict\n",
    "\n",
    "# Test the function\n",
    "dict1 = {\"a\": 10, \"b\": 20, \"c\": 30}\n",
    "dict2 = {\"b\": 40, \"c\": 50, \"d\": 60}\n",
    "print(\"Dictionary 1:\", dict1)\n",
    "print(\"Dictionary 2:\", dict2)\n",
    "print(\"Merged Dictionary:\", merge_dictionaries(dict1, dict2))"
   ]
  },
  {
   "cell_type": "code",
   "execution_count": null,
   "metadata": {},
   "outputs": [
    {
     "name": "stdout",
     "output_type": "stream",
     "text": [
      "Nested Dictionary: {'a': {'b': {'c': 'value'}}}\n",
      "Keys: ['a', 'b', 'c']\n",
      "Value: value\n",
      "\n",
      "Nested Dictionary: {'a': {'b': {'c': 'value'}}}\n",
      "Keys: ['a', 'b', 'd']\n",
      "Value: None\n"
     ]
    }
   ],
   "source": [
    "''' 33. Write a code to access a value in a nested dictionary. The function should take the dictionary and a list of \n",
    "keys as input, and return the corresponding value. If any of the keys do not exist in the dictionary, the \n",
    "function should return None '''\n",
    "def access_nested_dict(nested_dict, keys):\n",
    "    value = nested_dict\n",
    "    for key in keys:\n",
    "        if key in value:\n",
    "            value = value[key]\n",
    "        else:\n",
    "            return None\n",
    "    return value\n",
    "\n",
    "# Test the function\n",
    "nested_dict = {\"a\": {\"b\": {\"c\": \"value\"}}}\n",
    "keys = [\"a\", \"b\", \"c\"]\n",
    "print(\"Nested Dictionary:\", nested_dict)\n",
    "print(\"Keys:\", keys)\n",
    "print(\"Value:\", access_nested_dict(nested_dict, keys))\n",
    "\n",
    "nested_dict = {\"a\": {\"b\": {\"c\": \"value\"}}}\n",
    "keys = [\"a\", \"b\", \"d\"]\n",
    "print(\"\\nNested Dictionary:\", nested_dict)\n",
    "print(\"Keys:\", keys)\n",
    "print(\"Value:\", access_nested_dict(nested_dict, keys))"
   ]
  },
  {
   "cell_type": "code",
   "execution_count": null,
   "metadata": {},
   "outputs": [
    {
     "name": "stdout",
     "output_type": "stream",
     "text": [
      "Original Dictionary: {'a': 3, 'b': 1, 'c': 2}\n",
      "Sorted Dictionary (Ascending): {'b': 1, 'c': 2, 'a': 3}\n",
      "Sorted Dictionary (Descending): {'a': 3, 'c': 2, 'b': 1}\n"
     ]
    }
   ],
   "source": [
    "'''34. Write a code that takes a dictionary as input and returns a sorted version of it based on the values. You \n",
    "can choose whether to sort in ascending or descending order'''\n",
    "def sort_dict_by_values(input_dict, ascending=True):\n",
    "    return dict(sorted(input_dict.items(), key=lambda item: item[1], reverse=not ascending))\n",
    "\n",
    "# Test the function\n",
    "input_dict = {\"a\": 3, \"b\": 1, \"c\": 2}\n",
    "print(\"Original Dictionary:\", input_dict)\n",
    "\n",
    "sorted_dict_ascending = sort_dict_by_values(input_dict)\n",
    "print(\"Sorted Dictionary (Ascending):\", sorted_dict_ascending)\n",
    "\n",
    "sorted_dict_descending = sort_dict_by_values(input_dict, ascending=False)\n",
    "print(\"Sorted Dictionary (Descending):\", sorted_dict_descending)"
   ]
  },
  {
   "cell_type": "code",
   "execution_count": null,
   "metadata": {},
   "outputs": [
    {
     "name": "stdout",
     "output_type": "stream",
     "text": [
      "Original Dictionary: {'a': 1, 'b': 2, 'c': 1, 'd': 3}\n",
      "Inverted Dictionary: {1: ['a', 'c'], 2: ['b'], 3: ['d']}\n"
     ]
    }
   ],
   "source": [
    "\n",
    "''' 35. Write a code that inverts a dictionary, swapping keys and values. Ensure that the inverted dictionary \n",
    "correctly handles cases where multiple keys have the same value by storing the keys as a list in the \n",
    "inverted dictionary.'''\n",
    "def invert_dict(orig_dict):\n",
    "    inverted_dict = {}\n",
    "    for key, value in orig_dict.items():\n",
    "        if value in inverted_dict:\n",
    "            inverted_dict[value].append(key)\n",
    "        else:\n",
    "            inverted_dict[value] = [key]\n",
    "    return inverted_dict\n",
    "\n",
    "# Test the function\n",
    "orig_dict = {\"a\": 1, \"b\": 2, \"c\": 1, \"d\": 3}\n",
    "print(\"Original Dictionary:\", orig_dict)\n",
    "print(\"Inverted Dictionary:\", invert_dict(orig_dict))"
   ]
  }
 ],
 "metadata": {
  "kernelspec": {
   "display_name": "Python 3 (ipykernel)",
   "language": "python",
   "name": "python3"
  },
  "language_info": {
   "codemirror_mode": {
    "name": "ipython",
    "version": 3
   },
   "file_extension": ".py",
   "mimetype": "text/x-python",
   "name": "python",
   "nbconvert_exporter": "python",
   "pygments_lexer": "ipython3",
   "version": "3.12.8"
  }
 },
 "nbformat": 4,
 "nbformat_minor": 4
}
